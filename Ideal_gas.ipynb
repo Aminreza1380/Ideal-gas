{
 "cells": [
  {
   "cell_type": "code",
   "execution_count": 7,
   "metadata": {},
   "outputs": [
    {
     "data": {
      "image/png": "[encoded data removed]",
      "text/plain": [
       "<Figure size 640x480 with 1 Axes>"
      ]
     },
     "metadata": {},
     "output_type": "display_data"
    }
   ],
   "source": [
    "import numpy as np\n",
    "import matplotlib.pyplot as plt\n",
    "import matplotlib.animation as animation\n",
    "\n",
    "L = 1 # Size of the box\n",
    "d = 0.01\n",
    "m = 1\n",
    "T = 1\n",
    "KB = 1\n",
    "N = 20  # Number of atoms\n",
    "total_time = 10\n",
    "dt = 0.01\n",
    "steps = int(total_time / dt)\n",
    "\n",
    "def initialize_system():\n",
    "    positions = np.random.rand(N, 2) * L  # Random positions inside the box , 2 corresponds to the 2D space (x and y coordinates).\n",
    "    velocities = np.random.normal(loc=0, scale=np.sqrt(KB*T / m), size=(N, 2))  # Maxwell-Boltzmann distributed velocities\n",
    "    return positions, velocities\n",
    "\n",
    "def update_positions_and_velocities(positions, velocities):\n",
    "    positions += velocities * dt\n",
    "    \n",
    "    # Handle collisions with walls\n",
    "    for i in range(N): # This loop iterates over each atom in the system\n",
    "        for j in range(2):  # This loop iterates over each dimension (x and y) of the position of the atom.\n",
    "            if positions[i, j] < 0:\n",
    "                positions[i, j] = -positions[i, j] # This updates the position of the atom by reflecting it across the boundary, effectively bouncing it off the wall.\n",
    "                velocities[i, j] = -velocities[i, j] # This updates the velocity of the atom by reversing its direction in the jth dimension, ensuring conservation of momentum.\n",
    "            elif positions[i, j] > L:\n",
    "                positions[i, j] = 2*L - positions[i, j]\n",
    "                velocities[i, j] = -velocities[i, j]\n",
    "    \n",
    "    # Collisions between pairs of atoms\n",
    "    for i in range(N):\n",
    "        for j in range(i+1, N): # This loop iterates over the remaining atoms in the system\n",
    "                                # starting from the atom following the current ith atom (i+1) and continuing to the last atom (N-1)\n",
    "            \n",
    "            rij = positions[j] - positions[i] # Relative position\n",
    "            rij_norm = np.linalg.norm(rij) \n",
    "            # The Euclidean norm is essential in the provided code for accurately detecting collisions between atoms in the simulation\n",
    "\n",
    "            if rij_norm < 2 * d: # Checking for collisions\n",
    "                rij_hat = rij / rij_norm # Is used to determine the direction of the collision\n",
    "                vi_parallel = np.dot(velocities[i], rij_hat) * rij_hat # This calculates the component of the velocity of the ith atom parallel to the direction of the collision.\n",
    "                vj_parallel = np.dot(velocities[j], rij_hat) * rij_hat # This calculates the component of the velocity of the jth atom parallel to the direction of the collision.\n",
    "                vi_perpendicular = velocities[i] - vi_parallel # This calculates the component of the velocity of the ith atom perpendicular to the direction of the collision.\n",
    "                vj_perpendicular = velocities[j] - vj_parallel # This calculates the component of the velocity of the jth atom perpendicular to the direction of the collision.\n",
    "                velocities[i] = vi_perpendicular + vj_parallel\n",
    "                velocities[j] = vj_perpendicular + vi_parallel\n",
    "\n",
    "# Create figure and axis for animation\n",
    "fig, ax = plt.subplots()\n",
    "ax.set_xlim(0, L)\n",
    "ax.set_ylim(0, L)\n",
    "\n",
    "# Create a plot object for atoms\n",
    "atoms, = ax.plot([], [], 'bo', ms=6)\n",
    "# Are empty lists, representing the initial x and y coordinates of the data points to be plotted. Since they are empty, no data points are initially plotted on the axis.\n",
    "\n",
    "\n",
    "# Function to initialize the plot\n",
    "def init():\n",
    "    atoms.set_data([], [])\n",
    "    return atoms,\n",
    "\n",
    "# Function to update the plot for each frame of the animation\n",
    "def animate(frame):\n",
    "    update_positions_and_velocities(positions, velocities)\n",
    "    atoms.set_data(positions[:, 0], positions[:, 1])\n",
    "    return atoms,\n",
    "\n",
    "# Initialize the system\n",
    "positions, velocities = initialize_system()\n",
    "\n",
    "# Create the animation\n",
    "ani = animation.FuncAnimation(fig, animate, frames=steps, init_func=init, blit=True)\n",
    "\n",
    "# Save the animation as a GIF\n",
    "ani.save('molecular_dynamics_with_collisions.gif', writer='pillow', fps=30)\n",
    "\n",
    "plt.show()\n"
   ]
  },
  {
   "cell_type": "code",
   "execution_count": null,
   "metadata": {},
   "outputs": [],
   "source": []
  }
 ],
 "metadata": {
  "kernelspec": {
   "display_name": "Python 3",
   "language": "python",
   "name": "python3"
  },
  "language_info": {
   "codemirror_mode": {
    "name": "ipython",
    "version": 3
   },
   "file_extension": ".py",
   "mimetype": "text/x-python",
   "name": "python",
   "nbconvert_exporter": "python",
   "pygments_lexer": "ipython3",
   "version": "3.10.8"
  }
 },
 "nbformat": 4,
 "nbformat_minor": 2
}
